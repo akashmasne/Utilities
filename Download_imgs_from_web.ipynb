{
 "cells": [
  {
   "cell_type": "code",
   "execution_count": 81,
   "metadata": {},
   "outputs": [],
   "source": [
    "# import the necessary packages\n",
    "from imutils import paths\n",
    "import argparse\n",
    "import requests\n",
    "import cv2\n",
    "import os"
   ]
  },
  {
   "cell_type": "code",
   "execution_count": 88,
   "metadata": {},
   "outputs": [
    {
     "name": "stderr",
     "output_type": "stream",
     "text": [
      "usage: ipykernel_launcher.py [-h] -o ./DOWNLOADED_IMAGES/\n",
      "ipykernel_launcher.py: error: the following arguments are required: -o/--output\n"
     ]
    },
    {
     "ename": "SystemExit",
     "evalue": "2",
     "output_type": "error",
     "traceback": [
      "An exception has occurred, use %tb to see the full traceback.\n",
      "\u001b[1;31mSystemExit\u001b[0m\u001b[1;31m:\u001b[0m 2\n"
     ]
    }
   ],
   "source": [
    "# construct the argument parse and parse the arguments\n",
    "ap = argparse.ArgumentParser()\n",
    "#ap.add_argument(\"-u\",\"--urls\",help=\"C:/MyFolder/Data_Analyst/GoogleImages/urls.txt\",required=True)\n",
    "ap.add_argument(\"-o\",\"--output\",dest=\"./downloaded_images/\",required=True)\n",
    "args = vars(ap.parse_args())\n",
    "\n",
    "########## this didn't worked ##########\n",
    "#ap.add_argument(\"-u\",\"--urls\",required=True,help=\"C:/MyFolder/Data_Analyst/GoogleImages/urls.txt\")\n",
    "#ap.add_argument(\"-o\",\"--output\",required=True,help=\"./downloaded_images/\")\n"
   ]
  },
  {
   "cell_type": "code",
   "execution_count": 7,
   "metadata": {},
   "outputs": [],
   "source": [
    "urls=[]\n",
    "myurls=open('urls.txt','r')\n",
    "for row in myurls:\n",
    "    row=row.replace('\\n','')\n",
    "    urls.append(row)"
   ]
  },
  {
   "cell_type": "code",
   "execution_count": 8,
   "metadata": {},
   "outputs": [],
   "source": [
    "output=\"downloaded_images/\""
   ]
  },
  {
   "cell_type": "code",
   "execution_count": 10,
   "metadata": {},
   "outputs": [
    {
     "data": {
      "text/plain": [
       "400"
      ]
     },
     "execution_count": 10,
     "metadata": {},
     "output_type": "execute_result"
    }
   ],
   "source": [
    "#del(url)\n",
    "#url[0]\n",
    "len(urls)"
   ]
  },
  {
   "cell_type": "code",
   "execution_count": 11,
   "metadata": {},
   "outputs": [],
   "source": [
    "# grab the list of URLs from the input file, then initialize the\n",
    "# total number of images downloaded thus far\n",
    "rows=urls\n",
    "total = 0\n"
   ]
  },
  {
   "cell_type": "code",
   "execution_count": null,
   "metadata": {},
   "outputs": [
    {
     "name": "stdout",
     "output_type": "stream",
     "text": [
      "[INFO] downloaded: downloaded_images/\\00000000.jpg\n",
      "[INFO] downloaded: downloaded_images/\\00000001.jpg\n",
      "[INFO] downloaded: downloaded_images/\\00000002.jpg\n",
      "[INFO] downloaded: downloaded_images/\\00000003.jpg\n",
      "[INFO] downloaded: downloaded_images/\\00000004.jpg\n",
      "[INFO] downloaded: downloaded_images/\\00000005.jpg\n",
      "[INFO] downloaded: downloaded_images/\\00000006.jpg\n",
      "[INFO] downloaded: downloaded_images/\\00000007.jpg\n",
      "[INFO] error downloading downloaded_images/\\00000007.jpg...skipping\n",
      "[INFO] downloaded: downloaded_images/\\00000008.jpg\n",
      "[INFO] downloaded: downloaded_images/\\00000009.jpg\n"
     ]
    }
   ],
   "source": [
    "# loop the URLs\n",
    "  ############# THIS runs for long time , To abort restart Kernel #################\n",
    "for url in rows:\n",
    "\ttry:\n",
    "\t\t# try to download the image\n",
    "\t\tr = requests.get(url, timeout=60)\n",
    " \n",
    "\t\t# save the image to disk\n",
    "\t\tp = os.path.sep.join([output, \"{}.jpg\".format(\n",
    "\t\t\tstr(total).zfill(8))])\n",
    "\t\tf = open(p, \"wb\")\n",
    "\t\tf.write(r.content)\n",
    "\t\tf.close()\n",
    " \n",
    "\t\t# update the counter\n",
    "\t\tprint(\"[INFO] downloaded: {}\".format(p))\n",
    "\t\ttotal += 1\n",
    " \n",
    "\t# handle if any exceptions are thrown during the download process\n",
    "\texcept:\n",
    "\t\tprint(\"[INFO] error downloading {}...skipping\".format(p))"
   ]
  },
  {
   "cell_type": "markdown",
   "metadata": {},
   "source": [
    "230 files downloaded"
   ]
  },
  {
   "cell_type": "code",
   "execution_count": 35,
   "metadata": {},
   "outputs": [],
   "source": [
    "output='downloaded_images/'"
   ]
  },
  {
   "cell_type": "code",
   "execution_count": 120,
   "metadata": {},
   "outputs": [
    {
     "name": "stdout",
     "output_type": "stream",
     "text": [
      "[INFO] deleting downloaded_images/00000012.jpg\n",
      "[INFO] deleting downloaded_images/00000013.jpg\n",
      "[INFO] deleting downloaded_images/00000014.jpg\n",
      "[INFO] deleting downloaded_images/00000015.jpg\n",
      "[INFO] deleting downloaded_images/00000016.jpg\n",
      "[INFO] deleting downloaded_images/00000019.jpg\n",
      "[INFO] deleting downloaded_images/00000020.jpg\n",
      "[INFO] deleting downloaded_images/00000023.jpg\n",
      "[INFO] deleting downloaded_images/00000026.jpg\n",
      "[INFO] deleting downloaded_images/00000027.jpg\n",
      "[INFO] deleting downloaded_images/00000028.jpg\n",
      "[INFO] deleting downloaded_images/00000030.jpg\n",
      "[INFO] deleting downloaded_images/00000032.jpg\n",
      "[INFO] deleting downloaded_images/00000034.jpg\n",
      "[INFO] deleting downloaded_images/00000035.jpg\n",
      "[INFO] deleting downloaded_images/00000037.jpg\n",
      "[INFO] deleting downloaded_images/00000040.jpg\n",
      "[INFO] deleting downloaded_images/00000041.jpg\n",
      "[INFO] deleting downloaded_images/00000043.jpg\n",
      "[INFO] deleting downloaded_images/00000044.jpg\n",
      "[INFO] deleting downloaded_images/00000046.jpg\n",
      "[INFO] deleting downloaded_images/00000048.jpg\n",
      "[INFO] deleting downloaded_images/00000049.jpg\n",
      "[INFO] deleting downloaded_images/00000050.jpg\n",
      "[INFO] deleting downloaded_images/00000052.jpg\n",
      "[INFO] deleting downloaded_images/00000054.jpg\n",
      "[INFO] deleting downloaded_images/00000058.jpg\n",
      "[INFO] deleting downloaded_images/00000059.jpg\n",
      "[INFO] deleting downloaded_images/00000061.jpg\n",
      "[INFO] deleting downloaded_images/00000062.jpg\n",
      "[INFO] deleting downloaded_images/00000064.jpg\n",
      "[INFO] deleting downloaded_images/00000065.jpg\n",
      "[INFO] deleting downloaded_images/00000067.jpg\n",
      "[INFO] deleting downloaded_images/00000068.jpg\n",
      "[INFO] deleting downloaded_images/00000071.jpg\n",
      "[INFO] deleting downloaded_images/00000074.jpg\n",
      "[INFO] deleting downloaded_images/00000075.jpg\n",
      "[INFO] deleting downloaded_images/00000076.jpg\n",
      "[INFO] deleting downloaded_images/00000077.jpg\n",
      "[INFO] deleting downloaded_images/00000078.jpg\n",
      "[INFO] deleting downloaded_images/00000079.jpg\n",
      "[INFO] deleting downloaded_images/00000080.jpg\n",
      "[INFO] deleting downloaded_images/00000081.jpg\n",
      "[INFO] deleting downloaded_images/00000082.jpg\n",
      "[INFO] deleting downloaded_images/00000085.jpg\n",
      "[INFO] deleting downloaded_images/00000088.jpg\n",
      "[INFO] deleting downloaded_images/00000089.jpg\n",
      "[INFO] deleting downloaded_images/00000090.jpg\n",
      "[INFO] deleting downloaded_images/00000091.jpg\n",
      "[INFO] deleting downloaded_images/00000092.jpg\n",
      "[INFO] deleting downloaded_images/00000099.jpg\n",
      "[INFO] deleting downloaded_images/00000102.jpg\n",
      "[INFO] deleting downloaded_images/00000104.jpg\n",
      "[INFO] deleting downloaded_images/00000105.jpg\n",
      "[INFO] deleting downloaded_images/00000106.jpg\n",
      "[INFO] deleting downloaded_images/00000107.jpg\n",
      "[INFO] deleting downloaded_images/00000109.jpg\n",
      "[INFO] deleting downloaded_images/00000111.jpg\n",
      "[INFO] deleting downloaded_images/00000112.jpg\n",
      "[INFO] deleting downloaded_images/00000113.jpg\n",
      "[INFO] deleting downloaded_images/00000114.jpg\n",
      "[INFO] deleting downloaded_images/00000115.jpg\n",
      "[INFO] deleting downloaded_images/00000116.jpg\n",
      "[INFO] deleting downloaded_images/00000117.jpg\n",
      "[INFO] deleting downloaded_images/00000119.jpg\n",
      "[INFO] deleting downloaded_images/00000120.jpg\n",
      "[INFO] deleting downloaded_images/00000122.jpg\n",
      "[INFO] deleting downloaded_images/00000123.jpg\n",
      "[INFO] deleting downloaded_images/00000125.jpg\n",
      "[INFO] deleting downloaded_images/00000127.jpg\n",
      "[INFO] deleting downloaded_images/00000129.jpg\n",
      "[INFO] deleting downloaded_images/00000130.jpg\n",
      "[INFO] deleting downloaded_images/00000131.jpg\n",
      "[INFO] deleting downloaded_images/00000132.jpg\n",
      "[INFO] deleting downloaded_images/00000135.jpg\n",
      "[INFO] deleting downloaded_images/00000136.jpg\n",
      "[INFO] deleting downloaded_images/00000137.jpg\n",
      "[INFO] deleting downloaded_images/00000138.jpg\n",
      "[INFO] deleting downloaded_images/00000139.jpg\n",
      "[INFO] deleting downloaded_images/00000140.jpg\n",
      "[INFO] deleting downloaded_images/00000143.jpg\n",
      "[INFO] deleting downloaded_images/00000144.jpg\n",
      "[INFO] deleting downloaded_images/00000145.jpg\n",
      "[INFO] deleting downloaded_images/00000146.jpg\n",
      "[INFO] deleting downloaded_images/00000147.jpg\n",
      "[INFO] deleting downloaded_images/00000151.jpg\n",
      "[INFO] deleting downloaded_images/00000152.jpg\n",
      "[INFO] deleting downloaded_images/00000153.jpg\n",
      "[INFO] deleting downloaded_images/00000154.jpg\n",
      "[INFO] deleting downloaded_images/00000156.jpg\n",
      "[INFO] deleting downloaded_images/00000161.jpg\n",
      "[INFO] deleting downloaded_images/00000162.jpg\n",
      "[INFO] deleting downloaded_images/00000163.jpg\n",
      "[INFO] deleting downloaded_images/00000165.jpg\n",
      "[INFO] deleting downloaded_images/00000166.jpg\n",
      "[INFO] deleting downloaded_images/00000167.jpg\n",
      "[INFO] deleting downloaded_images/00000168.jpg\n",
      "[INFO] deleting downloaded_images/00000170.jpg\n",
      "[INFO] deleting downloaded_images/00000171.jpg\n",
      "[INFO] deleting downloaded_images/00000172.jpg\n",
      "[INFO] deleting downloaded_images/00000173.jpg\n",
      "[INFO] deleting downloaded_images/00000174.jpg\n",
      "[INFO] deleting downloaded_images/00000175.jpg\n",
      "[INFO] deleting downloaded_images/00000177.jpg\n",
      "[INFO] deleting downloaded_images/00000178.jpg\n",
      "[INFO] deleting downloaded_images/00000179.jpg\n",
      "[INFO] deleting downloaded_images/00000181.jpg\n",
      "[INFO] deleting downloaded_images/00000182.jpg\n",
      "[INFO] deleting downloaded_images/00000184.jpg\n",
      "[INFO] deleting downloaded_images/00000185.jpg\n",
      "[INFO] deleting downloaded_images/00000186.jpg\n",
      "[INFO] deleting downloaded_images/00000187.jpg\n",
      "[INFO] deleting downloaded_images/00000188.jpg\n",
      "[INFO] deleting downloaded_images/00000189.jpg\n",
      "[INFO] deleting downloaded_images/00000190.jpg\n",
      "[INFO] deleting downloaded_images/00000191.jpg\n",
      "[INFO] deleting downloaded_images/00000192.jpg\n",
      "[INFO] deleting downloaded_images/00000193.jpg\n",
      "[INFO] deleting downloaded_images/00000194.jpg\n",
      "[INFO] deleting downloaded_images/00000195.jpg\n",
      "[INFO] deleting downloaded_images/00000203.jpg\n",
      "[INFO] deleting downloaded_images/00000205.jpg\n",
      "[INFO] deleting downloaded_images/00000207.jpg\n",
      "[INFO] deleting downloaded_images/00000208.jpg\n",
      "[INFO] deleting downloaded_images/00000209.jpg\n",
      "[INFO] deleting downloaded_images/00000210.jpg\n",
      "[INFO] deleting downloaded_images/00000211.jpg\n",
      "[INFO] deleting downloaded_images/00000212.jpg\n",
      "[INFO] deleting downloaded_images/00000213.jpg\n",
      "[INFO] deleting downloaded_images/00000215.jpg\n",
      "[INFO] deleting downloaded_images/00000216.jpg\n",
      "[INFO] deleting downloaded_images/00000217.jpg\n",
      "[INFO] deleting downloaded_images/00000218.jpg\n",
      "[INFO] deleting downloaded_images/00000219.jpg\n",
      "[INFO] deleting downloaded_images/00000220.jpg\n",
      "[INFO] deleting downloaded_images/00000223.jpg\n",
      "[INFO] deleting downloaded_images/00000224.jpg\n",
      "[INFO] deleting downloaded_images/00000225.jpg\n"
     ]
    }
   ],
   "source": [
    "# loop over the image paths we just downloaded\n",
    "count_deleted=0\n",
    "for filename in os.walk(output):\n",
    "    for imagePath1 in filename[2]:\n",
    "    # initialize if the image should be deleted or not\n",
    "        delete = False\n",
    "        imagePath=(output+imagePath1)\n",
    "    # try to load the image\n",
    "        try:\n",
    "            image = cv2.imread(imagePath)\n",
    "    # if the image is `None` then we could not properly load it\n",
    "    # from disk, so delete it\n",
    "            if image is None:\n",
    "                delete = True\n",
    " \n",
    "    # if OpenCV cannot load the image then the image is likely\n",
    "    # corrupt so we should delete it\n",
    "        except:\n",
    "            print(\"Except\")\n",
    "            delete = True\n",
    " \n",
    "    # check to see if the image should be deleted\n",
    "        if delete:\n",
    "            print(\"[INFO] deleting {}\".format(imagePath))\n",
    "            os.remove(imagePath)\n",
    "            count_deleted+=1"
   ]
  },
  {
   "cell_type": "code",
   "execution_count": 121,
   "metadata": {},
   "outputs": [
    {
     "data": {
      "text/plain": [
       "138"
      ]
     },
     "execution_count": 121,
     "metadata": {},
     "output_type": "execute_result"
    }
   ],
   "source": [
    "count_deleted"
   ]
  },
  {
   "cell_type": "markdown",
   "metadata": {},
   "source": [
    "92 images remaining\n",
    "92+138=230"
   ]
  },
  {
   "cell_type": "code",
   "execution_count": null,
   "metadata": {},
   "outputs": [],
   "source": []
  }
 ],
 "metadata": {
  "kernelspec": {
   "display_name": "Python 3",
   "language": "python",
   "name": "python3"
  },
  "language_info": {
   "codemirror_mode": {
    "name": "ipython",
    "version": 3
   },
   "file_extension": ".py",
   "mimetype": "text/x-python",
   "name": "python",
   "nbconvert_exporter": "python",
   "pygments_lexer": "ipython3",
   "version": "3.7.3"
  }
 },
 "nbformat": 4,
 "nbformat_minor": 2
}
